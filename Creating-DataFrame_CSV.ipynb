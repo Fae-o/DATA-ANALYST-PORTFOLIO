{
 "cells": [
  {
   "cell_type": "markdown",
   "id": "e4154b4e-69fe-4cfa-9155-93f1aa264efd",
   "metadata": {},
   "source": [
    "# Task: Create a dataframe and export it as a CSV file.\n",
    "## By: Favour Ojiokpota"
   ]
  },
  {
   "cell_type": "code",
   "execution_count": 4,
   "id": "0f4219f5-629c-4b10-9fcd-ea1d9a0e160e",
   "metadata": {},
   "outputs": [],
   "source": [
    "# Import library\n",
    "import pandas as pd"
   ]
  },
  {
   "cell_type": "markdown",
   "id": "bc8ea0a2-88c1-4d5b-9ad1-8f3c661d7561",
   "metadata": {},
   "source": [
    "### Creating dictionaries"
   ]
  },
  {
   "cell_type": "code",
   "execution_count": 33,
   "id": "fd08e7d6-8d74-4970-8a3d-8a0626cbe604",
   "metadata": {},
   "outputs": [
    {
     "name": "stdout",
     "output_type": "stream",
     "text": [
      "{'First Name': ['Favour', 'David', 'Gift', 'Rejoice', 'Uyi', 'Sophia', 'Ifolo', 'Ifeoma', 'Priscillia', 'Rita', 'Samuel', 'Andrew', 'Claire', 'Ebuka', 'Princess', 'Treasure', 'Glory', 'Maryrose', 'Success', 'Elvis'], 'Last Name': ['Ojiokpota', 'Asamonye', 'Osamu', 'Omoefe', 'Erukpe', 'Okafor', 'Nmadu', 'Ezenkwu', 'Okonkwo', 'Ojiokpota', 'Akinlaja', 'Osagie', 'Ezinne', 'Ofojebe', 'Odeme', 'Osarieme', 'Pele', 'Okeke', 'Okun', 'Maro'], 'DOB': ['18/11/2010', '24/4/2007', '1/2/2008', '3/4/2009', '6/4/2008', '18/6/2009', '12/12/2008', '21/9/2009', '7/10/2006', '6/10/2011', '10/10/2010', '16/6/2009', '24/3/2009', '17/10/2010', '11/11/2007', '7/4/2011', '15/4/2010', '15/9/2006', '16/11/2007', '10/3/2011'], 'Career Option': ['Science', 'Science', 'Science', 'Art', 'Art', 'Science', 'Science', 'Art', 'Science', 'Art', 'Science', 'Art', 'Science', 'Science', 'Art', 'Science', 'Science', 'Art', 'Art', 'Art'], 'Age': [15, 18, 17, 16, 17, 16, 14, 17, 18, 13, 15, 16, 16, 15, 18, 14, 15, 19, 18, 14]}\n"
     ]
    }
   ],
   "source": [
    "data = {\n",
    "    'First Name' : ['Favour', 'David', 'Gift', 'Rejoice','Uyi', 'Sophia', 'Ifolo', 'Ifeoma','Priscillia', 'Rita', 'Samuel', 'Andrew', 'Claire', 'Ebuka', 'Princess', 'Treasure','Glory', 'Maryrose', 'Success', 'Elvis'],\n",
    "    'Last Name' : ['Ojiokpota', 'Asamonye', 'Osamu', 'Omoefe', 'Erukpe', 'Okafor', 'Nmadu', 'Ezenkwu', 'Okonkwo', 'Ojiokpota', 'Akinlaja','Osagie', 'Ezinne', 'Ofojebe', 'Odeme', 'Osarieme', 'Pele', 'Okeke', 'Okun', 'Maro'],\n",
    "    'DOB' : ['18/11/2010', '24/4/2007', '1/2/2008', '3/4/2009', '6/4/2008', '18/6/2009', '12/12/2008', '21/9/2009', '7/10/2006', '6/10/2011', '10/10/2010', '16/6/2009', '24/3/2009', '17/10/2010', '11/11/2007', '7/4/2011', '15/4/2010', '15/9/2006', '16/11/2007', '10/3/2011'],\n",
    "    'Career Option' : ['Science', 'Science', 'Science', 'Art', 'Art', 'Science', 'Science', 'Art', 'Science', 'Art', 'Science', 'Art', 'Science', 'Science', 'Art', 'Science', 'Science', 'Art', 'Art', 'Art'],\n",
    "    'Age' : [15, 18, 17, 16, 17, 16, 14, 17, 18, 13, 15, 16, 16, 15, 18, 14, 15, 19, 18, 14]\n",
    "}\n",
    "print(data)\n",
    "    "
   ]
  },
  {
   "cell_type": "markdown",
   "id": "f7e7ee07-07d6-4ab6-be76-d93c8506cfb0",
   "metadata": {},
   "source": [
    "### Conversion of dictionary to DataFrame"
   ]
  },
  {
   "cell_type": "code",
   "execution_count": 35,
   "id": "38958ac0-23e9-43e4-9b7e-94f2229685a2",
   "metadata": {},
   "outputs": [
    {
     "name": "stdout",
     "output_type": "stream",
     "text": [
      "    First Name  Last Name         DOB Career Option  Age\n",
      "0       Favour  Ojiokpota  18/11/2010       Science   15\n",
      "1        David   Asamonye   24/4/2007       Science   18\n",
      "2         Gift      Osamu    1/2/2008       Science   17\n",
      "3      Rejoice     Omoefe    3/4/2009           Art   16\n",
      "4          Uyi     Erukpe    6/4/2008           Art   17\n",
      "5       Sophia     Okafor   18/6/2009       Science   16\n",
      "6        Ifolo      Nmadu  12/12/2008       Science   14\n",
      "7       Ifeoma    Ezenkwu   21/9/2009           Art   17\n",
      "8   Priscillia    Okonkwo   7/10/2006       Science   18\n",
      "9         Rita  Ojiokpota   6/10/2011           Art   13\n",
      "10      Samuel   Akinlaja  10/10/2010       Science   15\n",
      "11      Andrew     Osagie   16/6/2009           Art   16\n",
      "12      Claire     Ezinne   24/3/2009       Science   16\n",
      "13       Ebuka    Ofojebe  17/10/2010       Science   15\n",
      "14    Princess      Odeme  11/11/2007           Art   18\n",
      "15    Treasure   Osarieme    7/4/2011       Science   14\n",
      "16       Glory       Pele   15/4/2010       Science   15\n",
      "17    Maryrose      Okeke   15/9/2006           Art   19\n",
      "18     Success       Okun  16/11/2007           Art   18\n",
      "19       Elvis       Maro   10/3/2011           Art   14\n"
     ]
    }
   ],
   "source": [
    "df = pd.DataFrame(data)\n",
    "print(df)"
   ]
  },
  {
   "cell_type": "markdown",
   "id": "eed9d9cd",
   "metadata": {},
   "source": []
  },
  {
   "cell_type": "code",
   "execution_count": 39,
   "id": "477534aa-230c-4c28-9424-dfe836e8c95f",
   "metadata": {},
   "outputs": [
    {
     "name": "stdout",
     "output_type": "stream",
     "text": [
      "<class 'pandas.core.frame.DataFrame'>\n",
      "RangeIndex: 20 entries, 0 to 19\n",
      "Data columns (total 5 columns):\n",
      " #   Column         Non-Null Count  Dtype \n",
      "---  ------         --------------  ----- \n",
      " 0   First Name     20 non-null     object\n",
      " 1   Last Name      20 non-null     object\n",
      " 2   DOB            20 non-null     object\n",
      " 3   Career Option  20 non-null     object\n",
      " 4   Age            20 non-null     int64 \n",
      "dtypes: int64(1), object(4)\n",
      "memory usage: 932.0+ bytes\n"
     ]
    }
   ],
   "source": [
    "df.info()"
   ]
  },
  {
   "cell_type": "markdown",
   "id": "249f1736-7c31-4d5b-a0d9-0ae82198a76b",
   "metadata": {},
   "source": [
    "### Exporting dataframe as a csv file"
   ]
  },
  {
   "cell_type": "code",
   "execution_count": 53,
   "id": "9f814535-a128-4cc5-a291-98cb4e559014",
   "metadata": {},
   "outputs": [],
   "source": [
    "df.to_csv('C:/Users/cdasa/OneDrive/Documents/HSStudents.csv', index = False)"
   ]
  },
  {
   "cell_type": "code",
   "execution_count": null,
   "id": "ce602fb4-7a52-4fc2-93c3-8272dc915a2a",
   "metadata": {},
   "outputs": [],
   "source": []
  }
 ],
 "metadata": {
  "kernelspec": {
   "display_name": "Python [conda env:base] *",
   "language": "python",
   "name": "conda-base-py"
  },
  "language_info": {
   "codemirror_mode": {
    "name": "ipython",
    "version": 3
   },
   "file_extension": ".py",
   "mimetype": "text/x-python",
   "name": "python",
   "nbconvert_exporter": "python",
   "pygments_lexer": "ipython3",
   "version": "3.12.7"
  }
 },
 "nbformat": 4,
 "nbformat_minor": 5
}
